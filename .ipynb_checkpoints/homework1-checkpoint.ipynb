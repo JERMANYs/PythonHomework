{
 "cells": [
  {
   "cell_type": "markdown",
   "id": "ce7ac3e5-f74e-41dc-901b-b2c9ef0788ec",
   "metadata": {},
   "source": [
    "## ใบงานที่ 1 : การส่งการบ้าน Git"
   ]
  },
  {
   "cell_type": "raw",
   "id": "052b838d-1812-467c-a64b-0c0700e4f483",
   "metadata": {},
   "source": [
    "นาย บวรภัค ศรีพล 6512732103"
   ]
  },
  {
   "cell_type": "code",
   "execution_count": 1,
   "id": "1e184543-c77d-44b5-8ed5-24c7bca9c262",
   "metadata": {},
   "outputs": [
    {
     "name": "stdout",
     "output_type": "stream",
     "text": [
      "Hello, World!\n"
     ]
    }
   ],
   "source": [
    "print(\"Hello, World!\")"
   ]
  },
  {
   "cell_type": "code",
   "execution_count": null,
   "id": "bbb3ee15-b988-486b-80dc-e54dc7c3e976",
   "metadata": {},
   "outputs": [],
   "source": []
  }
 ],
 "metadata": {
  "kernelspec": {
   "display_name": "Python 3 (ipykernel)",
   "language": "python",
   "name": "python3"
  },
  "language_info": {
   "codemirror_mode": {
    "name": "ipython",
    "version": 3
   },
   "file_extension": ".py",
   "mimetype": "text/x-python",
   "name": "python",
   "nbconvert_exporter": "python",
   "pygments_lexer": "ipython3",
   "version": "3.9.13"
  }
 },
 "nbformat": 4,
 "nbformat_minor": 5
}
